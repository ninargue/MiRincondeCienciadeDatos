{
 "cells": [
  {
   "cell_type": "markdown",
   "id": "3584b60b-5cad-43c5-9fa6-593e8a0ee03f",
   "metadata": {},
   "source": [
    "# Problema de Programación Lineal con PulP"
   ]
  },
  {
   "cell_type": "code",
   "execution_count": 1,
   "id": "f4d80050-f924-4b72-be57-717f4751bba1",
   "metadata": {},
   "outputs": [],
   "source": [
    "# !pip install pulp"
   ]
  },
  {
   "cell_type": "code",
   "execution_count": 2,
   "id": "bb596a90-3505-496d-a1eb-a153ad683a64",
   "metadata": {},
   "outputs": [],
   "source": [
    "import numpy as np\n",
    "import pulp as pl"
   ]
  },
  {
   "cell_type": "markdown",
   "id": "a59c9af8-5ce5-4b4b-ac45-b62b37127ff7",
   "metadata": {},
   "source": [
    "## Problema\n",
    "\n",
    "<img src=\"https://miro.medium.com/max/1050/1*pNF1FGt82jC-t7rgWDIadg.png\" alt=\"drawing\" width=\"400\" height=\"500\" align=\"center\"/>\n",
    "\n",
    "<img src=\"https://miro.medium.com/max/1050/1*3VQ2wm5ICw3Y8LERWSX1-Q.png\" alt=\"drawing\" width=\"400\" height=\"500\" align=\"center\"/>\n",
    "\n",
    "<img src=\"https://miro.medium.com/max/1050/1*R2Ka9rUBa_jmczjlFLf6Gg.png\" alt=\"drawing\" width=\"400\" height=\"500\" align=\"center\"/>\n",
    "\n",
    "<img src=\"https://miro.medium.com/max/561/1*sXTrgh1q6h0mpQCrpWJj4A.png\" alt=\"drawing\" width=\"200\" height=\"250\" align=\"center\"/>\n",
    "\n",
    "<img src=\"https://miro.medium.com/max/432/1*yi2G3GORtU6ZqFYkDoQVWw.png\" alt=\"drawing\" width=\"150\" height=\"200\" align=\"center\"/>\n",
    "\n",
    "Data source: [Towards Data Science](https://towardsdatascience.com/linear-programming-using-python-priyansh-22b5ee888fe0)"
   ]
  },
  {
   "cell_type": "markdown",
   "id": "5d8e5c73-9343-4d50-86cd-5d355b6d5946",
   "metadata": {},
   "source": [
    "## Construcción de los vectores y matrices de datos"
   ]
  },
  {
   "cell_type": "code",
   "execution_count": 3,
   "id": "7ce1e1d3-7d7d-4a0d-8691-4c64e0ada402",
   "metadata": {},
   "outputs": [],
   "source": [
    "# Matriz de costos: coeficiente de la F.O.:\n",
    "matriz_costos = np.array([[1, 3, 0.5, 4], \n",
    "                         [2.5, 5, 1.5, 2.5]])\n",
    "\n",
    "# Restricciones de inventario:\n",
    "restr_stock = np.array([60000,   # WH1\n",
    "                        80000])  # WH2\n",
    "\n",
    "# Restricciones de Demanda:\n",
    "restr_demanda = np.array([35000,  # Customer 1\n",
    "                         22000,   # Customer 2\n",
    "                         18000,   # Customer 3\n",
    "                         30000])  # Customer 4"
   ]
  },
  {
   "cell_type": "code",
   "execution_count": 4,
   "id": "8b40e410-8475-4dc1-8b4f-f2b67e622d4c",
   "metadata": {},
   "outputs": [
    {
     "name": "stdout",
     "output_type": "stream",
     "text": [
      "Variable Indices: ['11', '21', '31', '41', '12', '22', '32', '42']\n"
     ]
    }
   ],
   "source": [
    "# Construir de subindices de las variables de decisión:\n",
    "dim_matriz = (restr_stock.shape[0], restr_demanda.shape[0])  # n_rows x n_cols\n",
    "indices_variables = [str(i)+str(j) for j in range(1, dim_matriz[0]+1) for i in range(1, dim_matriz[1]+1)]\n",
    "print(\"Variable Indices:\", indices_variables)"
   ]
  },
  {
   "cell_type": "code",
   "execution_count": 5,
   "id": "66652cb4-1791-4d69-bb0d-a6cebc326c04",
   "metadata": {},
   "outputs": [
    {
     "name": "stdout",
     "output_type": "stream",
     "text": [
      "Variables de Decisión/Matriz de asignación:\n",
      " [[X_11 X_21 X_31 X_41]\n",
      " [X_12 X_22 X_32 X_42]]\n"
     ]
    }
   ],
   "source": [
    "# Creación de matriz de variables de decisión discretas (3x4), con restricción de no negatividad\n",
    "matriz_variables_int = pl.LpVariable.matrix(\"X\", indices_variables, cat = \"Integer\", lowBound = 0 )\n",
    "matriz_variables = np.array(matriz_variables_int).reshape(dim_matriz)\n",
    "print(\"Variables de Decisión/Matriz de asignación:\\n\", matriz_variables)"
   ]
  },
  {
   "cell_type": "markdown",
   "id": "30c1e9a1-92c9-4c03-9094-1ab480768cc4",
   "metadata": {},
   "source": [
    "## Construcción del Modelo"
   ]
  },
  {
   "cell_type": "code",
   "execution_count": 6,
   "id": "0db40edf-4560-4e43-bb82-7d144dbe56a6",
   "metadata": {},
   "outputs": [
    {
     "data": {
      "text/plain": [
       "Supply-Demand-Problem:\n",
       "MINIMIZE\n",
       "None\n",
       "VARIABLES"
      ]
     },
     "execution_count": 6,
     "metadata": {},
     "output_type": "execute_result"
    }
   ],
   "source": [
    "# Instanciando el problema de Minimización\n",
    "model_LP = pl.LpProblem(name = \"Supply-Demand-Problem\", sense = pl.LpMinimize) # sense options: LpMinimize or LpMaximize\n",
    "model_LP"
   ]
  },
  {
   "cell_type": "code",
   "execution_count": 7,
   "id": "f0afaafb-ae70-4905-8ea0-fb5f239c347d",
   "metadata": {},
   "outputs": [
    {
     "name": "stdout",
     "output_type": "stream",
     "text": [
      "F.O.: min(X_11 + 2.5*X_12 + 3.0*X_21 + 5.0*X_22 + 0.5*X_31 + 1.5*X_32 + 4.0*X_41 + 2.5*X_42)\n"
     ]
    }
   ],
   "source": [
    "# Construir la Función Objetivo (F.O):\n",
    "obj_func = pl.lpSum(matriz_variables*matriz_costos)\n",
    "print(f\"F.O.: min({obj_func})\")"
   ]
  },
  {
   "cell_type": "code",
   "execution_count": 8,
   "id": "1bc55146-1564-40e2-bbf8-de9788ed9caf",
   "metadata": {},
   "outputs": [
    {
     "name": "stdout",
     "output_type": "stream",
     "text": [
      "Supply-Demand-Problem:\n",
      "MINIMIZE\n",
      "1.0*X_11 + 2.5*X_12 + 3.0*X_21 + 5.0*X_22 + 0.5*X_31 + 1.5*X_32 + 4.0*X_41 + 2.5*X_42 + 0.0\n",
      "VARIABLES\n",
      "0 <= X_11 Integer\n",
      "0 <= X_12 Integer\n",
      "0 <= X_21 Integer\n",
      "0 <= X_22 Integer\n",
      "0 <= X_31 Integer\n",
      "0 <= X_32 Integer\n",
      "0 <= X_41 Integer\n",
      "0 <= X_42 Integer\n",
      "\n"
     ]
    }
   ],
   "source": [
    "# Agregar la F.O. al modelo de PL:\n",
    "model_LP +=  obj_func\n",
    "print(model_LP)"
   ]
  },
  {
   "cell_type": "code",
   "execution_count": 9,
   "id": "865ee895-ae11-47d6-b90d-26e50f712bfb",
   "metadata": {},
   "outputs": [
    {
     "name": "stdout",
     "output_type": "stream",
     "text": [
      "X_11 + X_21 + X_31 + X_41 <= 60000\n",
      "\n",
      "X_12 + X_22 + X_32 + X_42 <= 80000\n",
      "\n"
     ]
    }
   ],
   "source": [
    "# Agregar al modelo de PL las inecuaciones de restricciones de Stock:\n",
    "for i in range(dim_matriz[0]):\n",
    "    ineq = pl.lpSum(matriz_variables[i][j] for j in range(dim_matriz[1])) <= restr_stock[i]\n",
    "    print(ineq, end='\\n\\n')\n",
    "    model_LP += (ineq, \"Restricciones de Stock \" + str(i+1))"
   ]
  },
  {
   "cell_type": "code",
   "execution_count": 10,
   "id": "b4cecfc4-b13b-4227-83be-5e1e83283131",
   "metadata": {},
   "outputs": [
    {
     "name": "stdout",
     "output_type": "stream",
     "text": [
      "X_11 + X_12 >= 35000\n",
      "\n",
      "X_21 + X_22 >= 22000\n",
      "\n",
      "X_31 + X_32 >= 18000\n",
      "\n",
      "X_41 + X_42 >= 30000\n",
      "\n"
     ]
    }
   ],
   "source": [
    "# Agregar al modelo de PL las inecuaciones de restricciones de Demanda:\n",
    "for i in range(dim_matriz[1]):\n",
    "    ineq = pl.lpSum(matriz_variables[j][i] for j in range(dim_matriz[0])) >= restr_demanda[i]\n",
    "    print(ineq, end='\\n\\n')\n",
    "    model_LP += (ineq, \"Restricciones de Demanda \" + str(i))"
   ]
  },
  {
   "cell_type": "markdown",
   "id": "c1d371e4-fe1e-4c5c-8938-d9fdcac5abfb",
   "metadata": {},
   "source": [
    "## Resumen del Modelo"
   ]
  },
  {
   "cell_type": "code",
   "execution_count": 11,
   "id": "938ff43e-53cf-42e3-8bcb-2009c175a70b",
   "metadata": {},
   "outputs": [
    {
     "data": {
      "text/plain": [
       "Supply-Demand-Problem:\n",
       "MINIMIZE\n",
       "1.0*X_11 + 2.5*X_12 + 3.0*X_21 + 5.0*X_22 + 0.5*X_31 + 1.5*X_32 + 4.0*X_41 + 2.5*X_42 + 0.0\n",
       "SUBJECT TO\n",
       "Restricciones_de_Stock_1: X_11 + X_21 + X_31 + X_41 <= 60000\n",
       "\n",
       "Restricciones_de_Stock_2: X_12 + X_22 + X_32 + X_42 <= 80000\n",
       "\n",
       "Restricciones_de_Demanda_0: X_11 + X_12 >= 35000\n",
       "\n",
       "Restricciones_de_Demanda_1: X_21 + X_22 >= 22000\n",
       "\n",
       "Restricciones_de_Demanda_2: X_31 + X_32 >= 18000\n",
       "\n",
       "Restricciones_de_Demanda_3: X_41 + X_42 >= 30000\n",
       "\n",
       "VARIABLES\n",
       "0 <= X_11 Integer\n",
       "0 <= X_12 Integer\n",
       "0 <= X_21 Integer\n",
       "0 <= X_22 Integer\n",
       "0 <= X_31 Integer\n",
       "0 <= X_32 Integer\n",
       "0 <= X_41 Integer\n",
       "0 <= X_42 Integer"
      ]
     },
     "execution_count": 11,
     "metadata": {},
     "output_type": "execute_result"
    }
   ],
   "source": [
    "model_LP"
   ]
  },
  {
   "cell_type": "markdown",
   "id": "2fc20bb7-3cd5-4ff0-b30e-bb1035573d69",
   "metadata": {},
   "source": [
    "## Resolviendo el problema"
   ]
  },
  {
   "cell_type": "code",
   "execution_count": 12,
   "id": "4c697051-610d-4605-98c5-8dc8eefa636b",
   "metadata": {},
   "outputs": [
    {
     "name": "stdout",
     "output_type": "stream",
     "text": [
      "['PULP_CBC_CMD']\n"
     ]
    }
   ],
   "source": [
    "# Solucionador disponible con PulP\n",
    "print(pl.listSolvers(onlyAvailable=True))"
   ]
  },
  {
   "cell_type": "code",
   "execution_count": 13,
   "id": "802bc847-64a7-44b1-b9fc-088ff83862a0",
   "metadata": {},
   "outputs": [
    {
     "name": "stdout",
     "output_type": "stream",
     "text": [
      "Optimal\n"
     ]
    }
   ],
   "source": [
    "model_LP.solve()\n",
    "\n",
    "status = pl.LpStatus[model_LP.status]\n",
    "\n",
    "print(status)"
   ]
  },
  {
   "cell_type": "markdown",
   "id": "0ece7be3-7a72-4d90-8e8e-187c7afcf667",
   "metadata": {},
   "source": [
    "Tener en cuenta que, aunque el estado es óptimo en este caso, no tiene por qué serlo. En caso de que el problema esté mal formulado o no haya suficiente información, la solución puede ser inviable o ilimitada."
   ]
  },
  {
   "cell_type": "markdown",
   "id": "17ab7e2b-4a6e-4405-8052-822b9594897d",
   "metadata": {},
   "source": [
    "## Solución"
   ]
  },
  {
   "cell_type": "code",
   "execution_count": 14,
   "id": "5df0bd32-bd10-45cb-b70a-3f7c8900b9e9",
   "metadata": {},
   "outputs": [
    {
     "name": "stdout",
     "output_type": "stream",
     "text": [
      "Costo Total: 200000.0\n",
      "X_11 = 35000.0\n",
      "X_12 = 0.0\n",
      "X_21 = 22000.0\n",
      "X_22 = 0.0\n",
      "X_31 = 3000.0\n",
      "X_32 = 15000.0\n",
      "X_41 = 0.0\n",
      "X_42 = 30000.0\n"
     ]
    }
   ],
   "source": [
    "print(\"Costo Total:\", model_LP.objective.value())\n",
    "\n",
    "# Variables de Decisión\n",
    "for v in model_LP.variables():\n",
    "    try:\n",
    "        print(v.name,\"=\", v.value())\n",
    "    except:\n",
    "        print(\"error, no pudo encontrar valor\")"
   ]
  }
 ],
 "metadata": {
  "kernelspec": {
   "display_name": "Python 3",
   "language": "python",
   "name": "python3"
  },
  "language_info": {
   "codemirror_mode": {
    "name": "ipython",
    "version": 3
   },
   "file_extension": ".py",
   "mimetype": "text/x-python",
   "name": "python",
   "nbconvert_exporter": "python",
   "pygments_lexer": "ipython3",
   "version": "3.8.8"
  }
 },
 "nbformat": 4,
 "nbformat_minor": 5
}
